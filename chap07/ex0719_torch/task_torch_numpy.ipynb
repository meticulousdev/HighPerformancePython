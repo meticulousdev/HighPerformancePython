{
  "nbformat": 4,
  "nbformat_minor": 0,
  "metadata": {
    "colab": {
      "name": "task_torch_numpy.ipynb",
      "provenance": [],
      "collapsed_sections": []
    },
    "kernelspec": {
      "name": "python3",
      "display_name": "Python 3"
    },
    "language_info": {
      "name": "python"
    },
    "accelerator": "GPU"
  },
  "cells": [
    {
      "cell_type": "code",
      "execution_count": 1,
      "metadata": {
        "id": "pZHSiOTkLCwW"
      },
      "outputs": [],
      "source": [
        "import torch\n",
        "import time\n",
        "from functools import wraps"
      ]
    },
    {
      "cell_type": "code",
      "source": [
        "def timefn(fn):\n",
        "    @wraps(fn)\n",
        "    def measure_time(*args, **kwargs):\n",
        "        t1 = time.time()\n",
        "        result = fn(*args, **kwargs)\n",
        "        t2 = time.time()\n",
        "        print(f\"@timefn: {fn.__name__} took {t2 - t1} seconds\")\n",
        "        return result\n",
        "    return measure_time"
      ],
      "metadata": {
        "id": "MgDqsWbML-G8"
      },
      "execution_count": 2,
      "outputs": []
    },
    {
      "cell_type": "code",
      "source": [
        "@timefn\n",
        "def task(A, target):\n",
        "    result = 0\n",
        "    i = 0\n",
        "    N = 0\n",
        "    while result < target:\n",
        "        r = A[i]\n",
        "        result += r\n",
        "        i = A[i]\n",
        "        N += 1\n",
        "    return N"
      ],
      "metadata": {
        "id": "e5Z03mJfMBoe"
      },
      "execution_count": 3,
      "outputs": []
    },
    {
      "cell_type": "code",
      "source": [
        "if __name__ == \"__main__\":\n",
        "    N = 1000\n",
        "\n",
        "    A_py = (torch.rand(N) * N).type(torch.int).to('cuda:0')\n",
        "    A_np = A_py.cpu().numpy()\n",
        "\n",
        "    task(A_py, 500)\n",
        "    task(A_np, 500)"
      ],
      "metadata": {
        "colab": {
          "base_uri": "https://localhost:8080/"
        },
        "id": "ctscFQzvMGdI",
        "outputId": "1bbf93eb-175a-4caf-f982-c1b097bb29f9"
      },
      "execution_count": 4,
      "outputs": [
        {
          "output_type": "stream",
          "name": "stdout",
          "text": [
            "@timefn: task took 0.00036025047302246094 seconds\n",
            "@timefn: task took 6.127357482910156e-05 seconds\n"
          ]
        }
      ]
    }
  ]
}