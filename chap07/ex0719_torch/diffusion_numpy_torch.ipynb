{
  "cells": [
    {
      "cell_type": "markdown",
      "metadata": {},
      "source": [
        "Google Colab"
      ]
    },
    {
      "cell_type": "code",
      "execution_count": 2,
      "metadata": {
        "colab": {
          "base_uri": "https://localhost:8080/"
        },
        "id": "FnC29qBiGn_k",
        "outputId": "0c2d8c20-7395-439b-9d67-801532271e67"
      },
      "outputs": [
        {
          "name": "stdout",
          "output_type": "stream",
          "text": [
            "Torch version:1.10.0+cu111\n",
            "cuda version: 11.1\n",
            "cudnn version:8005\n"
          ]
        }
      ],
      "source": [
        "import torch\n",
        "\n",
        "print(\"Torch version:{}\".format(torch.__version__))\n",
        "print(\"cuda version: {}\".format(torch.version.cuda))\n",
        "print(\"cudnn version:{}\".format(torch.backends.cudnn.version()))"
      ]
    },
    {
      "cell_type": "code",
      "execution_count": 3,
      "metadata": {
        "colab": {
          "base_uri": "https://localhost:8080/"
        },
        "id": "ECA9B3EHF_2u",
        "outputId": "72f3e6ae-e791-457d-e855-1d15648b26d2"
      },
      "outputs": [
        {
          "name": "stdout",
          "output_type": "stream",
          "text": [
            "elapsed time: 2.3353774547576904\n"
          ]
        }
      ],
      "source": [
        "import time\n",
        "from numpy import zeros, roll\n",
        "\n",
        "\n",
        "grid_shape = (640, 640)\n",
        "\n",
        "\n",
        "def laplacian(grid):\n",
        "    return (roll(grid, +1, 0) +\n",
        "            roll(grid, -1, 0) +\n",
        "            roll(grid, +1, 1) +\n",
        "            roll(grid, -1, 1) -\n",
        "            4 * grid)\n",
        "\n",
        "\n",
        "def evolve(grid, dt, D=1):\n",
        "    return grid + dt * D * laplacian(grid)\n",
        "\n",
        "\n",
        "def run_experiment(num_iterations):\n",
        "    grid = zeros(grid_shape)\n",
        "\n",
        "    block_low = int(grid_shape[0] * 0.4)\n",
        "    block_high = int(grid_shape[0] * 0.5)\n",
        "    grid[block_low:block_high, block_low:block_high] = 0.005\n",
        "\n",
        "    start = time.time()\n",
        "    for i in range(num_iterations):\n",
        "        grid = evolve(grid, 0, 1)\n",
        "    return time.time() - start\n",
        "\n",
        "\n",
        "if __name__ == \"__main__\":\n",
        "    print(f\"elapsed time: {run_experiment(500)}\")\n"
      ]
    },
    {
      "cell_type": "code",
      "execution_count": 4,
      "metadata": {
        "colab": {
          "base_uri": "https://localhost:8080/"
        },
        "id": "kvXBqLYTGRVE",
        "outputId": "90fba103-faed-462c-ff8b-30d8e165b627"
      },
      "outputs": [
        {
          "name": "stdout",
          "output_type": "stream",
          "text": [
            "elapsed time: 0.21639752388000488\n"
          ]
        }
      ],
      "source": [
        "import time\n",
        "from torch import zeros, roll\n",
        "\n",
        "\n",
        "grid_shape = (640, 640)\n",
        "\n",
        "\n",
        "def laplacian(grid):\n",
        "    return (roll(grid, +1, 0) +\n",
        "            roll(grid, -1, 0) +\n",
        "            roll(grid, +1, 1) +\n",
        "            roll(grid, -1, 1) -\n",
        "            4 * grid)\n",
        "\n",
        "\n",
        "def evolve(grid, dt, D=1):\n",
        "    return grid + dt * D * laplacian(grid)\n",
        "\n",
        "\n",
        "def run_experiment(num_iterations):\n",
        "    grid = zeros(grid_shape)\n",
        "\n",
        "    block_low = int(grid_shape[0] * 0.4)\n",
        "    block_high = int(grid_shape[0] * 0.5)\n",
        "    grid[block_low:block_high, block_low:block_high] = 0.005\n",
        "\n",
        "    grid = grid.cuda()\n",
        "    start = time.time()\n",
        "    for i in range(num_iterations):\n",
        "        grid = evolve(grid, 0, 1)\n",
        "    return time.time() - start\n",
        "\n",
        "\n",
        "if __name__ == \"__main__\":\n",
        "    print(f\"elapsed time: {run_experiment(500)}\")\n"
      ]
    },
    {
      "cell_type": "code",
      "execution_count": 1,
      "metadata": {
        "colab": {
          "base_uri": "https://localhost:8080/"
        },
        "id": "KW_8f3_jIz64",
        "outputId": "a4d1132c-69df-42b8-c864-ccb02730890d"
      },
      "outputs": [
        {
          "name": "stdout",
          "output_type": "stream",
          "text": [
            "Sat Dec 11 15:37:01 2021       \n",
            "+-----------------------------------------------------------------------------+\n",
            "| NVIDIA-SMI 495.44       Driver Version: 460.32.03    CUDA Version: 11.2     |\n",
            "|-------------------------------+----------------------+----------------------+\n",
            "| GPU  Name        Persistence-M| Bus-Id        Disp.A | Volatile Uncorr. ECC |\n",
            "| Fan  Temp  Perf  Pwr:Usage/Cap|         Memory-Usage | GPU-Util  Compute M. |\n",
            "|                               |                      |               MIG M. |\n",
            "|===============================+======================+======================|\n",
            "|   0  Tesla K80           Off  | 00000000:00:04.0 Off |                    0 |\n",
            "| N/A   43C    P8    29W / 149W |      0MiB / 11441MiB |      0%      Default |\n",
            "|                               |                      |                  N/A |\n",
            "+-------------------------------+----------------------+----------------------+\n",
            "                                                                               \n",
            "+-----------------------------------------------------------------------------+\n",
            "| Processes:                                                                  |\n",
            "|  GPU   GI   CI        PID   Type   Process name                  GPU Memory |\n",
            "|        ID   ID                                                   Usage      |\n",
            "|=============================================================================|\n",
            "|  No running processes found                                                 |\n",
            "+-----------------------------------------------------------------------------+\n"
          ]
        }
      ],
      "source": [
        "!nvidia-smi"
      ]
    }
  ],
  "metadata": {
    "accelerator": "GPU",
    "colab": {
      "collapsed_sections": [],
      "name": "diffusion_test.ipynb",
      "provenance": []
    },
    "kernelspec": {
      "display_name": "Python 3",
      "name": "python3"
    },
    "language_info": {
      "name": "python"
    }
  },
  "nbformat": 4,
  "nbformat_minor": 0
}
